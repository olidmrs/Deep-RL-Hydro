{
 "cells": [
  {
   "cell_type": "code",
   "execution_count": 1,
   "metadata": {},
   "outputs": [],
   "source": [
    "from environment.hydroenv import HydroEnv\n",
    "from algorithms.dqn import ReplayBuffer, DQN, DQNAgent\n",
    "from algorithms import Qlearning\n",
    "\n",
    "import torch.nn as nn\n",
    "import torch.optim as optim\n",
    "import random\n",
    "import numpy as np\n",
    "import gym\n",
    "\n",
    "from matplotlib import pyplot as plt\n",
    "import pandas as pd"
   ]
  },
  {
   "cell_type": "markdown",
   "metadata": {},
   "source": [
    "## Q learning"
   ]
  },
  {
   "cell_type": "code",
   "execution_count": null,
   "metadata": {},
   "outputs": [],
   "source": [
    "env_Q = HydroEnv(\n",
    "    t = 3,\n",
    "    l_initial = 40,\n",
    "    l_max = 100,\n",
    "    l_min = 0\n",
    ")\n",
    "\n",
    "Q_model = Qlearning(\n",
    "    env = env_Q,\n",
    "    gamma = 0.9,\n",
    "    epoch = 2000000,\n",
    "    learning_rate = 0.1,\n",
    "    epsilon = 1,\n",
    "    epsilon_decay = 0.99\n",
    ")\n",
    "\n",
    "Q_model.qlearning_solver()"
   ]
  },
  {
   "cell_type": "code",
   "execution_count": null,
   "metadata": {},
   "outputs": [],
   "source": [
    "pi, waterlevel = Q_model.extract_policy()\n",
    "value_pi = Q_model.extract_value_of_pi()\n",
    "print('Optimal actions at time t starting at water level 40:')\n",
    "print(pi)\n",
    "print('\\nWaterlevel at each time t: ') \n",
    "print(waterlevel)\n",
    "print('\\nValue of optimal policy starting at water level 40 ') \n",
    "print(value_pi)"
   ]
  },
  {
   "cell_type": "markdown",
   "metadata": {},
   "source": [
    "## DQN"
   ]
  },
  {
   "cell_type": "code",
   "execution_count": 2,
   "metadata": {},
   "outputs": [
    {
     "name": "stdout",
     "output_type": "stream",
     "text": [
      "Episode: 0, % of episodes: 0.0 %\n",
      "epsilon: 1.0\n",
      "Episode: 1000, % of episodes: 4.0 %\n",
      "epsilon: 0.9\n",
      "Episode: 2000, % of episodes: 8.0 %\n",
      "epsilon: 0.82\n",
      "Episode: 3000, % of episodes: 12.0 %\n",
      "epsilon: 0.74\n",
      "Episode: 4000, % of episodes: 16.0 %\n",
      "epsilon: 0.67\n",
      "Episode: 5000, % of episodes: 20.0 %\n",
      "epsilon: 0.61\n",
      "Episode: 6000, % of episodes: 24.0 %\n",
      "epsilon: 0.55\n",
      "Episode: 7000, % of episodes: 28.000000000000004 %\n",
      "epsilon: 0.5\n",
      "Episode: 8000, % of episodes: 32.0 %\n",
      "epsilon: 0.45\n",
      "Episode: 9000, % of episodes: 36.0 %\n",
      "epsilon: 0.41\n",
      "Episode: 10000, % of episodes: 40.0 %\n",
      "epsilon: 0.37\n",
      "Episode: 11000, % of episodes: 44.0 %\n",
      "epsilon: 0.33\n",
      "Episode: 12000, % of episodes: 48.0 %\n",
      "epsilon: 0.3\n",
      "Episode: 13000, % of episodes: 52.0 %\n",
      "epsilon: 0.27\n",
      "Episode: 14000, % of episodes: 56.00000000000001 %\n",
      "epsilon: 0.25\n",
      "Episode: 15000, % of episodes: 60.0 %\n",
      "epsilon: 0.22\n",
      "Episode: 16000, % of episodes: 64.0 %\n",
      "epsilon: 0.2\n",
      "Episode: 17000, % of episodes: 68.0 %\n",
      "epsilon: 0.18\n",
      "Episode: 18000, % of episodes: 72.0 %\n",
      "epsilon: 0.17\n",
      "Episode: 19000, % of episodes: 76.0 %\n",
      "epsilon: 0.15\n",
      "Episode: 20000, % of episodes: 80.0 %\n",
      "epsilon: 0.14\n",
      "Episode: 21000, % of episodes: 84.0 %\n",
      "epsilon: 0.12\n",
      "Episode: 22000, % of episodes: 88.0 %\n",
      "epsilon: 0.11\n",
      "Episode: 23000, % of episodes: 92.0 %\n",
      "epsilon: 0.1\n",
      "Episode: 24000, % of episodes: 96.0 %\n",
      "epsilon: 0.1\n",
      "\n",
      "\n",
      " % of decisions which were eploration: 37.93510503057086 %\n",
      "% of truncated decisions: 37.83522004963981 %\n"
     ]
    }
   ],
   "source": [
    "episodes = 25000\n",
    "batch_size = 32\n",
    "\n",
    "# Definition of the environment\n",
    "env = HydroEnv(\n",
    "    t = 3,\n",
    "    l_max = 1000,\n",
    "    l_min = 0\n",
    ")\n",
    "\n",
    "#TODO PROBLEM WHEN ADDING SECOND LAYER. FIX NEEDED\n",
    "\n",
    "# Definition of the DQN agent\n",
    "dqn_agent = DQNAgent(\n",
    "    input_dim = env.observation_space.shape[0],\n",
    "    output_dim = env.action_space.n,\n",
    "    nb_hidden = 2,\n",
    "    hidden_size = 1000,\n",
    "    replay_buffer = ReplayBuffer(1000),\n",
    "    learning_rate = 0.0001,\n",
    "    env = env,\n",
    "    gamma = 0.9,\n",
    "    init_eps = 1,\n",
    "    final_eps = 0.1,\n",
    "    eps_decay_rate = 0.9999\n",
    ")\n",
    "\n",
    "reward_history = []\n",
    "count_truncated = 0\n",
    "for episode in range(episodes):\n",
    "    \n",
    "    # Reset environment which implies randomly generating a state\n",
    "    env.reset()\n",
    "    episode_reward = 0\n",
    "    dqn_agent.epsilon_decay()\n",
    "    if episode % 100 == 0:\n",
    "        dqn_agent.update_target_network()\n",
    "    \n",
    "    for t in range(env.t):\n",
    "        state = env.state\n",
    "        action = dqn_agent.choose_action(state)\n",
    "        \n",
    "        next_state, reward, done, truncated, info = env.step(action)\n",
    "\n",
    "        dqn_agent.replay_buffer.add(state, action, reward, next_state, done)\n",
    "        dqn_agent.update(batch_size)\n",
    "\n",
    "        episode_reward += reward\n",
    "\n",
    "        if done or truncated:\n",
    "            count_truncated += 1\n",
    "            break\n",
    "    \n",
    "    reward_history.append(episode_reward)\n",
    "\n",
    "    if episode % 1000 == 0:\n",
    "        print(f'Episode: {episode}, % of episodes: {episode/episodes * 100} %')\n",
    "        print(f'epsilon: {round(dqn_agent.eps, 2)}')\n",
    "\n",
    "print(f'\\n\\n % of decisions which were eploration: {dqn_agent.exploration_episodes/(dqn_agent.exploration_episodes + dqn_agent.exploitation_episodes) * 100} %')\n",
    "print(f'% of truncated decisions: {count_truncated/(dqn_agent.exploration_episodes + dqn_agent.exploitation_episodes) * 100} %')\n",
    "dqn_agent.exploitation_episodes = 0\n",
    "dqn_agent.exploration_episodes = 0"
   ]
  },
  {
   "cell_type": "code",
   "execution_count": 3,
   "metadata": {},
   "outputs": [
    {
     "data": {
      "image/png": "[encoded data removed]",
      "text/plain": [
       "<Figure size 640x480 with 1 Axes>"
      ]
     },
     "metadata": {},
     "output_type": "display_data"
    }
   ],
   "source": [
    "def exponential_moving_average(data, alpha):\n",
    "    ema = np.zeros_like(data)\n",
    "    ema[0] = data[0]\n",
    "    for i in range(1, len(data)):\n",
    "        ema[i] = alpha * data[i] + (1 - alpha) * ema[i-1]\n",
    "    return ema\n",
    "\n",
    "\n",
    "data = np.array(reward_history)\n",
    "rewards = exponential_moving_average(data , 0.5)\n",
    "episodes = [ep for ep in range(episodes)]\n",
    "plt.plot(episodes, data)\n",
    "plt.show()"
   ]
  }
 ],
 "metadata": {
  "kernelspec": {
   "display_name": "Python 3",
   "language": "python",
   "name": "python3"
  },
  "language_info": {
   "codemirror_mode": {
    "name": "ipython",
    "version": 3
   },
   "file_extension": ".py",
   "mimetype": "text/x-python",
   "name": "python",
   "nbconvert_exporter": "python",
   "pygments_lexer": "ipython3",
   "version": "3.11.9"
  }
 },
 "nbformat": 4,
 "nbformat_minor": 2
}
